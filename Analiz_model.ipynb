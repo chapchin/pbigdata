{
 "cells": [
  {
   "cell_type": "markdown",
   "metadata": {},
   "source": [
    "Ваша команда ученых по данным работала с маленькой выборкой данных в 4Гб от общего датасета \n",
    "данных и рекомендует применять линейную регрессию со следующими параметрами:\n",
    "\n",
    "maxIter=40, regParam=0.4, elasticNetParam=0.8"
   ]
  },
  {
   "cell_type": "code",
   "execution_count": 1,
   "metadata": {},
   "outputs": [],
   "source": [
    "from pyspark.sql import SparkSession\n",
    "from pyspark.ml import Pipeline\n",
    "from pyspark.sql.functions import mean,col,split, col, regexp_extract, when, lit\n",
    "from pyspark.ml.feature import VectorAssembler\n",
    "from pyspark.ml.feature import QuantileDiscretizer\n",
    "from pyspark.ml.regression import DecisionTreeRegressor\n",
    "from pyspark.ml.regression import RandomForestRegressor\n",
    "from pyspark.ml.regression import GBTRegressor\n",
    "from pyspark.ml.regression import LinearRegression\n",
    "from pyspark.ml.evaluation import RegressionEvaluator\n",
    "from pyspark.ml.tuning import ParamGridBuilder, TrainValidationSplit"
   ]
  },
  {
   "cell_type": "markdown",
   "metadata": {},
   "source": [
    "### Инициализирую спарк и загружаю данные"
   ]
  },
  {
   "cell_type": "code",
   "execution_count": 2,
   "metadata": {},
   "outputs": [],
   "source": [
    "spark = SparkSession.builder.appName(\"PySparkML\").getOrCreate()"
   ]
  },
  {
   "cell_type": "code",
   "execution_count": 3,
   "metadata": {},
   "outputs": [
    {
     "data": {
      "text/html": [
       "\n",
       "            <div>\n",
       "                <p><b>SparkSession - in-memory</b></p>\n",
       "                \n",
       "        <div>\n",
       "            <p><b>SparkContext</b></p>\n",
       "\n",
       "            <p><a href=\"http://DESKTOP-LN369UP:4040\">Spark UI</a></p>\n",
       "\n",
       "            <dl>\n",
       "              <dt>Version</dt>\n",
       "                <dd><code>v2.4.5</code></dd>\n",
       "              <dt>Master</dt>\n",
       "                <dd><code>local[*]</code></dd>\n",
       "              <dt>AppName</dt>\n",
       "                <dd><code>PySparkML</code></dd>\n",
       "            </dl>\n",
       "        </div>\n",
       "        \n",
       "            </div>\n",
       "        "
      ],
      "text/plain": [
       "<pyspark.sql.session.SparkSession at 0x2532557b6c8>"
      ]
     },
     "execution_count": 3,
     "metadata": {},
     "output_type": "execute_result"
    }
   ],
   "source": [
    "spark"
   ]
  },
  {
   "cell_type": "code",
   "execution_count": 4,
   "metadata": {},
   "outputs": [],
   "source": [
    "train_data = spark.read.parquet('train.parquet')\n",
    "test_data = spark.read.parquet('test.parquet')"
   ]
  },
  {
   "cell_type": "code",
   "execution_count": 5,
   "metadata": {},
   "outputs": [
    {
     "name": "stdout",
     "output_type": "stream",
     "text": [
      "+-----+---------------------+---------+------+------+----------------+---------+-----------------+\n",
      "|ad_id|target_audience_count|has_video|is_cpm|is_cpc|         ad_cost|day_count|              ctr|\n",
      "+-----+---------------------+---------+------+------+----------------+---------+-----------------+\n",
      "|    1|     10707.2440058622|        1|     1|     0|201.829292651124|       15|0.431740082807281|\n",
      "+-----+---------------------+---------+------+------+----------------+---------+-----------------+\n",
      "only showing top 1 row\n",
      "\n"
     ]
    }
   ],
   "source": [
    "train_data.show(1)"
   ]
  },
  {
   "cell_type": "code",
   "execution_count": 6,
   "metadata": {},
   "outputs": [
    {
     "name": "stdout",
     "output_type": "stream",
     "text": [
      "+-----+---------------------+---------+------+------+----------------+---------+-----------------+\n",
      "|ad_id|target_audience_count|has_video|is_cpm|is_cpc|         ad_cost|day_count|              ctr|\n",
      "+-----+---------------------+---------+------+------+----------------+---------+-----------------+\n",
      "|    6|     11418.7085911347|        1|     1|     0|204.104562956739|       11|0.909738306804039|\n",
      "+-----+---------------------+---------+------+------+----------------+---------+-----------------+\n",
      "only showing top 1 row\n",
      "\n"
     ]
    }
   ],
   "source": [
    "test_data.show(1)"
   ]
  },
  {
   "cell_type": "markdown",
   "metadata": {},
   "source": [
    "### Линейная модель предложенная нам учёными"
   ]
  },
  {
   "cell_type": "code",
   "execution_count": 7,
   "metadata": {},
   "outputs": [
    {
     "data": {
      "text/plain": [
       "0.40972941379994193"
      ]
     },
     "execution_count": 7,
     "metadata": {},
     "output_type": "execute_result"
    }
   ],
   "source": [
    "feature = VectorAssembler(inputCols = train_data.columns[:7],outputCol=\"features\")\n",
    "lr = LinearRegression(labelCol=\"ctr\", featuresCol=\"features\", maxIter=40, regParam=0.4, elasticNetParam=0.8)\n",
    "pipeline = Pipeline(stages=[feature, lr])\n",
    "lr_model = pipeline.fit(train_data)\n",
    "lr_prediction = lr_model.transform(test_data)\n",
    "evaluator = RegressionEvaluator(labelCol=\"ctr\", predictionCol=\"prediction\", metricName=\"rmse\")\n",
    "evaluator.evaluate(lr_prediction, {evaluator.metricName: \"rmse\"})"
   ]
  },
  {
   "cell_type": "markdown",
   "metadata": {},
   "source": [
    "### Decision tree regression"
   ]
  },
  {
   "cell_type": "code",
   "execution_count": 8,
   "metadata": {},
   "outputs": [
    {
     "name": "stdout",
     "output_type": "stream",
     "text": [
      "+------------------+-----------------+--------------------+\n",
      "|        prediction|              ctr|            features|\n",
      "+------------------+-----------------+--------------------+\n",
      "|2.1819122574651977|0.909738306804039|[6.0,11418.708591...|\n",
      "+------------------+-----------------+--------------------+\n",
      "only showing top 1 row\n",
      "\n",
      "Root Mean Squared Error (RMSE) on test data = 0.0798908\n",
      "DecisionTreeRegressionModel (uid=DecisionTreeRegressor_8ee65b8a2fc8) of depth 5 with 63 nodes\n"
     ]
    }
   ],
   "source": [
    "# Train a DecisionTree model.\n",
    "dt = DecisionTreeRegressor(labelCol=\"ctr\", featuresCol=\"features\")\n",
    "\n",
    "# Chain indexer and tree in a Pipeline\n",
    "pipeline = Pipeline(stages=[feature, dt])\n",
    "\n",
    "# Train model.  This also runs the indexer.\n",
    "model = pipeline.fit(train_data)\n",
    "\n",
    "# Make predictions. на тестовых данных\n",
    "predictions = model.transform(test_data)\n",
    "\n",
    "# Select example rows to display.\n",
    "predictions.select(\"prediction\", \"ctr\", \"features\").show(1)\n",
    "\n",
    "# Select (prediction, true label) and compute test error\n",
    "evaluator = RegressionEvaluator(\n",
    "    labelCol=\"ctr\", predictionCol=\"prediction\", metricName=\"rmse\")\n",
    "rmse = evaluator.evaluate(predictions)\n",
    "print(\"Root Mean Squared Error (RMSE) on test data = %g\" % rmse)\n",
    "\n",
    "treeModel = model.stages[1]\n",
    "# summary only\n",
    "print(treeModel)"
   ]
  },
  {
   "cell_type": "markdown",
   "metadata": {},
   "source": [
    "### Random forest regression"
   ]
  },
  {
   "cell_type": "code",
   "execution_count": 9,
   "metadata": {},
   "outputs": [
    {
     "name": "stdout",
     "output_type": "stream",
     "text": [
      "+------------------+-----------------+--------------------+\n",
      "|        prediction|              ctr|            features|\n",
      "+------------------+-----------------+--------------------+\n",
      "|2.7930838774918514|0.909738306804039|[6.0,11418.708591...|\n",
      "+------------------+-----------------+--------------------+\n",
      "only showing top 1 row\n",
      "\n",
      "Root Mean Squared Error (RMSE) on test data = 0.117644\n",
      "RandomForestRegressionModel (uid=RandomForestRegressor_11bc113c7c70) with 20 trees\n"
     ]
    }
   ],
   "source": [
    "rf = RandomForestRegressor(labelCol=\"ctr\", featuresCol=\"features\")\n",
    "\n",
    "# Chain indexer and forest in a Pipeline\n",
    "pipeline = Pipeline(stages=[feature, rf])\n",
    "\n",
    "# Train model.  This also runs the indexer.\n",
    "model = pipeline.fit(train_data)\n",
    "\n",
    "# Make predictions.\n",
    "predictions = model.transform(test_data)\n",
    "\n",
    "# Select example rows to display.\n",
    "predictions.select(\"prediction\", \"ctr\", \"features\").show(1)\n",
    "\n",
    "# Select (prediction, true label) and compute test error\n",
    "evaluator = RegressionEvaluator(\n",
    "    labelCol=\"ctr\", predictionCol=\"prediction\", metricName=\"rmse\")\n",
    "rmse = evaluator.evaluate(predictions)\n",
    "print(\"Root Mean Squared Error (RMSE) on test data = %g\" % rmse)\n",
    "\n",
    "rfModel = model.stages[1]\n",
    "print(rfModel)  # summary only"
   ]
  },
  {
   "cell_type": "markdown",
   "metadata": {},
   "source": [
    "### Gradient-boosted tree regression"
   ]
  },
  {
   "cell_type": "code",
   "execution_count": 10,
   "metadata": {},
   "outputs": [
    {
     "name": "stdout",
     "output_type": "stream",
     "text": [
      "+------------------+-----------------+--------------------+\n",
      "|        prediction|              ctr|            features|\n",
      "+------------------+-----------------+--------------------+\n",
      "|2.1996467185183977|0.909738306804039|[6.0,11418.708591...|\n",
      "+------------------+-----------------+--------------------+\n",
      "only showing top 1 row\n",
      "\n",
      "Root Mean Squared Error (RMSE) on test data = 0.0736514\n",
      "GBTRegressionModel (uid=GBTRegressor_fe2793dd1edb) with 10 trees\n"
     ]
    }
   ],
   "source": [
    "# Train a GBT model.\n",
    "gbt = GBTRegressor(labelCol=\"ctr\", featuresCol=\"features\", maxIter=10)\n",
    "\n",
    "# Chain indexer and GBT in a Pipeline\n",
    "pipeline = Pipeline(stages=[feature, gbt])\n",
    "\n",
    "# Train model.  This also runs the indexer.\n",
    "model = pipeline.fit(train_data)\n",
    "\n",
    "# Make predictions.\n",
    "predictions = model.transform(test_data)\n",
    "\n",
    "# Select example rows to display.\n",
    "predictions.select(\"prediction\", \"ctr\", \"features\").show(1)\n",
    "\n",
    "# Select (prediction, true label) and compute test error\n",
    "evaluator = RegressionEvaluator(\n",
    "    labelCol=\"ctr\", predictionCol=\"prediction\", metricName=\"rmse\")\n",
    "rmse = evaluator.evaluate(predictions)\n",
    "print(\"Root Mean Squared Error (RMSE) on test data = %g\" % rmse)\n",
    "\n",
    "gbtModel = model.stages[1]\n",
    "print(gbtModel)  # summary only"
   ]
  },
  {
   "cell_type": "markdown",
   "metadata": {},
   "source": [
    "### У нас не стоит задачи выбрать наиболее отпимальную модель. По результатам выше видно, что GBT model даёт наилучшие результаты по умолчанию. Эту модель используем и подберём для неё гиперпараметры."
   ]
  },
  {
   "cell_type": "code",
   "execution_count": 11,
   "metadata": {},
   "outputs": [],
   "source": [
    "#add feature\n",
    "feature = VectorAssembler(inputCols = train_data.columns[:7],outputCol=\"features\")\n",
    "\n",
    "# Train a GBT model.\n",
    "gbt = GBTRegressor(labelCol=\"ctr\", featuresCol=\"features\", maxIter=10)\n",
    "\n",
    "paramGrid = ParamGridBuilder()\\\n",
    "    .addGrid(gbt.maxDepth, [2, 3, 4, 5,6,7,8,9]).addGrid(gbt.maxBins, [10, 16, 20, 24, 32, 36]).addGrid(gbt.maxIter, [10]).build()\n",
    "\n",
    "# A TrainValidationSplit requires an Estimator, a set of Estimator ParamMaps, and an Evaluator.\n",
    "tvs = TrainValidationSplit(estimator=gbt,\n",
    "                           estimatorParamMaps=paramGrid,\n",
    "                           evaluator=RegressionEvaluator(labelCol=\"ctr\", predictionCol=\"prediction\", metricName=\"rmse\"),\n",
    "                           # 80% of the data will be used for training, 20% for validation.\n",
    "                           trainRatio=0.8)\n",
    "\n",
    "# Run TrainValidationSplit, and choose the best set of parameters.\n",
    "#model = tvs.fit(train_data)\n",
    "pipeline = Pipeline(stages=[feature, tvs])\n",
    "\n",
    "model = pipeline.fit(train_data)"
   ]
  },
  {
   "cell_type": "code",
   "execution_count": 12,
   "metadata": {},
   "outputs": [
    {
     "name": "stdout",
     "output_type": "stream",
     "text": [
      "+--------------------+-----------------+------------------+\n",
      "|            features|              ctr|        prediction|\n",
      "+--------------------+-----------------+------------------+\n",
      "|[6.0,11418.708591...|0.909738306804039|2.2414021351496434|\n",
      "+--------------------+-----------------+------------------+\n",
      "only showing top 1 row\n",
      "\n"
     ]
    }
   ],
   "source": [
    "# Make predictions on test data. model is the model with combination of parameters\n",
    "# that performed best.\n",
    "predictions = model.transform(test_data)\n",
    "predictions.select(\"features\", \"ctr\", \"prediction\").show(1)"
   ]
  },
  {
   "cell_type": "code",
   "execution_count": 13,
   "metadata": {},
   "outputs": [
    {
     "name": "stdout",
     "output_type": "stream",
     "text": [
      "+--------------------+-----------------+------------------+\n",
      "|            features|              ctr|        prediction|\n",
      "+--------------------+-----------------+------------------+\n",
      "|[6.0,11418.708591...|0.909738306804039|2.2414021351496434|\n",
      "+--------------------+-----------------+------------------+\n",
      "only showing top 1 row\n",
      "\n",
      "Root Mean Squared Error (RMSE) on test data = 0.0634109\n"
     ]
    }
   ],
   "source": [
    "predictions = model.transform(test_data)\n",
    "predictions.select(\"features\", \"ctr\", \"prediction\").show(1)\n",
    "\n",
    "evaluator = RegressionEvaluator(labelCol=\"ctr\", predictionCol=\"prediction\", metricName=\"rmse\")\n",
    "rmse = evaluator.evaluate(predictions)\n",
    "print(\"Root Mean Squared Error (RMSE) on test data = %g\" % rmse)"
   ]
  },
  {
   "cell_type": "code",
   "execution_count": null,
   "metadata": {},
   "outputs": [],
   "source": []
  }
 ],
 "metadata": {
  "kernelspec": {
   "display_name": "Python 3",
   "language": "python",
   "name": "python3"
  },
  "language_info": {
   "codemirror_mode": {
    "name": "ipython",
    "version": 3
   },
   "file_extension": ".py",
   "mimetype": "text/x-python",
   "name": "python",
   "nbconvert_exporter": "python",
   "pygments_lexer": "ipython3",
   "version": "3.7.7"
  }
 },
 "nbformat": 4,
 "nbformat_minor": 4
}
